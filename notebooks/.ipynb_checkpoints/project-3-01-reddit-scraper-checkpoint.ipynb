{
 "cells": [
  {
   "cell_type": "markdown",
   "metadata": {},
   "source": [
    "# Project 3: Web APIs & Classification\n",
    "## 01. Reddit Scraper\n",
    "Resources referenced to help create scraper:\n",
    "- [pushshift.io API Documentation](https://github.com/pushshift/api)\n",
    "- [Reddit thread: How would I get all user's comments?](https://www.reddit.com/r/pushshift/comments/9xh1b1/how_would_i_get_all_users_comments/)\n",
    "- [How to scrape Reddit with Python](http://www.storybench.org/how-to-scrape-reddit-with-python/) (To set up timestamp)"
   ]
  },
  {
   "cell_type": "code",
   "execution_count": 1,
   "metadata": {},
   "outputs": [],
   "source": [
    "# Import libraries\n",
    "import requests\n",
    "import time\n",
    "import pandas as pd\n",
    "import datetime as dt"
   ]
  },
  {
   "cell_type": "code",
   "execution_count": 2,
   "metadata": {},
   "outputs": [],
   "source": [
    "# Select subreddit to scrape\n",
    "subreddit = 'TheOnion'"
   ]
  },
  {
   "cell_type": "code",
   "execution_count": 3,
   "metadata": {},
   "outputs": [
    {
     "name": "stdout",
     "output_type": "stream",
     "text": [
      "0\n",
      "500\n",
      "1000\n",
      "1500\n",
      "2000\n",
      "2500\n",
      "3000\n",
      "3500\n",
      "4000\n",
      "4500\n",
      "5000\n",
      "5500\n",
      "6000\n",
      "6500\n",
      "7000\n",
      "7500\n",
      "8000\n",
      "8500\n",
      "9000\n",
      "9500\n"
     ]
    }
   ],
   "source": [
    "# Set up dict for info to collect\n",
    "posts_data = {'created_utc':[],\n",
    "              'url':[],\n",
    "              'id':[],\n",
    "              'num_comments':[],\n",
    "              'title':[],\n",
    "              'subreddit':[]\n",
    "              }\n",
    "\n",
    "headers = {'User-agent': 'Reddit Post Collector'}\n",
    "\n",
    "# Set up function to return submission data\n",
    "def get_submissions(**kwargs):\n",
    "    res = requests.get(\"https://api.pushshift.io/reddit/submission/search/\",\n",
    "                       params=kwargs,\n",
    "                       headers=headers)\n",
    "    if res.status_code == 200:\n",
    "        data = res.json()\n",
    "        return data['data']\n",
    "    else:\n",
    "        print(res.status_code)\n",
    "\n",
    "before = None\n",
    "count = 0\n",
    "\n",
    "# Collect up to 10,000 posts as long as there are posts to collect\n",
    "while True and len(set(posts_data['created_utc'])) < 9500:\n",
    "    print(count)\n",
    "    count += 1*500\n",
    "    \n",
    "    posts = get_submissions(subreddit=subreddit,\n",
    "                            size=500,\n",
    "                            before=before,\n",
    "                            sort='desc',\n",
    "                            sort_type='created_utc')\n",
    "    if not posts:\n",
    "        break\n",
    "\n",
    "    for post in posts:\n",
    "        # Keep track of position for the next call in while loop\n",
    "        before = post['created_utc']\n",
    "\n",
    "        # Append info to posts_data dict\n",
    "        posts_data['created_utc'].append(post['created_utc'])\n",
    "        posts_data['url'].append(post['full_link'])\n",
    "        posts_data['id'].append(post['id'])\n",
    "        posts_data['num_comments'].append(post['num_comments'])\n",
    "        posts_data['title'].append(post['title'])\n",
    "        posts_data['subreddit'].append(post['subreddit'])\n",
    "\n",
    "    time.sleep(1)\n",
    "\n",
    "# Save posts to dataframe\n",
    "posts_data = pd.DataFrame(posts_data)\n",
    "\n",
    "# Create `timestamp` column with `created_utc` translated into readable time\n",
    "def get_date(created):\n",
    "    return dt.datetime.fromtimestamp(created)\n",
    "\n",
    "_timestamp = posts_data['created_utc'].apply(get_date)\n",
    "posts_data = posts_data.assign(timestamp = _timestamp)\n",
    "\n",
    "# Export to csv\n",
    "filetime = time.strftime(\"%y%m%d_%H%M%S\", time.localtime())\n",
    "posts_data.to_csv('./data/{}_{}.csv'.format(subreddit, filetime), index=False)"
   ]
  },
  {
   "cell_type": "code",
   "execution_count": 4,
   "metadata": {},
   "outputs": [
    {
     "data": {
      "text/html": [
       "<div>\n",
       "<style scoped>\n",
       "    .dataframe tbody tr th:only-of-type {\n",
       "        vertical-align: middle;\n",
       "    }\n",
       "\n",
       "    .dataframe tbody tr th {\n",
       "        vertical-align: top;\n",
       "    }\n",
       "\n",
       "    .dataframe thead th {\n",
       "        text-align: right;\n",
       "    }\n",
       "</style>\n",
       "<table border=\"1\" class=\"dataframe\">\n",
       "  <thead>\n",
       "    <tr style=\"text-align: right;\">\n",
       "      <th></th>\n",
       "      <th>created_utc</th>\n",
       "      <th>url</th>\n",
       "      <th>id</th>\n",
       "      <th>num_comments</th>\n",
       "      <th>title</th>\n",
       "      <th>subreddit</th>\n",
       "      <th>timestamp</th>\n",
       "    </tr>\n",
       "  </thead>\n",
       "  <tbody>\n",
       "    <tr>\n",
       "      <th>0</th>\n",
       "      <td>1545089481</td>\n",
       "      <td>https://www.reddit.com/r/TheOnion/comments/a75...</td>\n",
       "      <td>a75a2d</td>\n",
       "      <td>0</td>\n",
       "      <td>Maria Butina Pleads Guilty To Russian Scheme T...</td>\n",
       "      <td>TheOnion</td>\n",
       "      <td>2018-12-17 18:31:21</td>\n",
       "    </tr>\n",
       "    <tr>\n",
       "      <th>1</th>\n",
       "      <td>1545083658</td>\n",
       "      <td>https://www.reddit.com/r/TheOnion/comments/a74...</td>\n",
       "      <td>a74ecp</td>\n",
       "      <td>0</td>\n",
       "      <td>Drew Brees said WHAT?!</td>\n",
       "      <td>TheOnion</td>\n",
       "      <td>2018-12-17 16:54:18</td>\n",
       "    </tr>\n",
       "    <tr>\n",
       "      <th>2</th>\n",
       "      <td>1545082273</td>\n",
       "      <td>https://www.reddit.com/r/TheOnion/comments/a74...</td>\n",
       "      <td>a746b4</td>\n",
       "      <td>0</td>\n",
       "      <td>Ryan Zinke Apologizes For Misuse Of Government...</td>\n",
       "      <td>TheOnion</td>\n",
       "      <td>2018-12-17 16:31:13</td>\n",
       "    </tr>\n",
       "    <tr>\n",
       "      <th>3</th>\n",
       "      <td>1545075093</td>\n",
       "      <td>https://www.reddit.com/r/TheOnion/comments/a73...</td>\n",
       "      <td>a730yh</td>\n",
       "      <td>0</td>\n",
       "      <td>Report: Re-mixxxx!</td>\n",
       "      <td>TheOnion</td>\n",
       "      <td>2018-12-17 14:31:33</td>\n",
       "    </tr>\n",
       "    <tr>\n",
       "      <th>4</th>\n",
       "      <td>1545074578</td>\n",
       "      <td>https://www.reddit.com/r/TheOnion/comments/a72...</td>\n",
       "      <td>a72xu7</td>\n",
       "      <td>0</td>\n",
       "      <td>Trump Administration Launches Human Rights Inv...</td>\n",
       "      <td>TheOnion</td>\n",
       "      <td>2018-12-17 14:22:58</td>\n",
       "    </tr>\n",
       "  </tbody>\n",
       "</table>\n",
       "</div>"
      ],
      "text/plain": [
       "   created_utc                                                url      id  \\\n",
       "0   1545089481  https://www.reddit.com/r/TheOnion/comments/a75...  a75a2d   \n",
       "1   1545083658  https://www.reddit.com/r/TheOnion/comments/a74...  a74ecp   \n",
       "2   1545082273  https://www.reddit.com/r/TheOnion/comments/a74...  a746b4   \n",
       "3   1545075093  https://www.reddit.com/r/TheOnion/comments/a73...  a730yh   \n",
       "4   1545074578  https://www.reddit.com/r/TheOnion/comments/a72...  a72xu7   \n",
       "\n",
       "   num_comments                                              title subreddit  \\\n",
       "0             0  Maria Butina Pleads Guilty To Russian Scheme T...  TheOnion   \n",
       "1             0                             Drew Brees said WHAT?!  TheOnion   \n",
       "2             0  Ryan Zinke Apologizes For Misuse Of Government...  TheOnion   \n",
       "3             0                                 Report: Re-mixxxx!  TheOnion   \n",
       "4             0  Trump Administration Launches Human Rights Inv...  TheOnion   \n",
       "\n",
       "            timestamp  \n",
       "0 2018-12-17 18:31:21  \n",
       "1 2018-12-17 16:54:18  \n",
       "2 2018-12-17 16:31:13  \n",
       "3 2018-12-17 14:31:33  \n",
       "4 2018-12-17 14:22:58  "
      ]
     },
     "execution_count": 4,
     "metadata": {},
     "output_type": "execute_result"
    }
   ],
   "source": [
    "posts_data.head()"
   ]
  },
  {
   "cell_type": "code",
   "execution_count": 5,
   "metadata": {},
   "outputs": [
    {
     "data": {
      "text/plain": [
       "(10000, 7)"
      ]
     },
     "execution_count": 5,
     "metadata": {},
     "output_type": "execute_result"
    }
   ],
   "source": [
    "posts_data.shape"
   ]
  }
 ],
 "metadata": {
  "kernelspec": {
   "display_name": "Python 3",
   "language": "python",
   "name": "python3"
  },
  "language_info": {
   "codemirror_mode": {
    "name": "ipython",
    "version": 3
   },
   "file_extension": ".py",
   "mimetype": "text/x-python",
   "name": "python",
   "nbconvert_exporter": "python",
   "pygments_lexer": "ipython3",
   "version": "3.6.6"
  }
 },
 "nbformat": 4,
 "nbformat_minor": 2
}
